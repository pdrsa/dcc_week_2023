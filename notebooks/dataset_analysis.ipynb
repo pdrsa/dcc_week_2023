{
 "cells": [
  {
   "cell_type": "code",
   "execution_count": 2,
   "id": "275f8098",
   "metadata": {},
   "outputs": [],
   "source": [
    "import h5py\n",
    "import numpy as np\n",
    "import pandas as pd\n",
    "from sklearn import preprocessing\n",
    "from scipy.stats import pearsonr\n",
    "from torch.utils.data import Dataset\n",
    "from tqdm import tqdm\n",
    "import torch\n",
    "\n",
    "class ECG_Dataset(Dataset):\n",
    "    def __init__(self, \n",
    "                tracings_file_path,\n",
    "                labels_file_path,\n",
    "                start = 0,\n",
    "                end = -1):\n",
    "        self.f = h5py.File(tracings_file_path, 'r')\n",
    "\n",
    "        # Get tracings\n",
    "        self.trace_ids = np.array(self.f['exam_id'])[start:end]\n",
    "        self.tracings = self.f['tracings']\n",
    "\n",
    "        # Defining start and end\n",
    "        self.start = start\n",
    "        self.end   = (end if end != -1 else len(self.tracings)-1)\n",
    "\n",
    "        # Get labels\n",
    "        labels_df = pd.read_csv(labels_file_path)\n",
    "        self.labels    = {labels_df[\"exam_id\"][i]:labels_df[\"classe\"][i] for i in range(len(self.tracings))}\n",
    "\n",
    "    def __len__(self):\n",
    "        return self.end - self.start\n",
    "\n",
    "    def __getitem__(self, idx):\n",
    "        # Get tracing\n",
    "        tracing_idx = self.start + idx\n",
    "        tracing = np.transpose(self.tracings[tracing_idx])\n",
    "        \n",
    "        # Get label\n",
    "        label = self.labels[self.trace_ids[idx]]\n",
    "\n",
    "        return tracing, label"
   ]
  },
  {
   "cell_type": "markdown",
   "id": "c5206626",
   "metadata": {},
   "source": [
    "In the next cell I try to apply a tucker decomposition, witch is (or should be) a SVD equivalent but for tensors. "
   ]
  },
  {
   "cell_type": "markdown",
   "id": "c6be1f60",
   "metadata": {},
   "source": [
    "```\n",
    "from tensorly.decomposition import tucker\n",
    "import tensorly as tl\n",
    "\n",
    "with h5py.File('../data/train_dccweek2023.h5', 'r') as f:\n",
    "    X = f['tracings'][:5000]\n",
    "    \n",
    "\n",
    "# aplica o HOSVD mantendo a primeira dimensão\n",
    "factors = tucker(X, rank=[5000, 2000, 2])\n",
    "\n",
    "# reconstrói o tensor original usando os componentes principais\n",
    "X_hosvd = tl.kruskal_to_tensor(factors)\n",
    "\n",
    "# verifica as dimensões do novo tensor\n",
    "print(X_hosvd.shape)\n",
    "```"
   ]
  },
  {
   "cell_type": "markdown",
   "id": "e2ed651f",
   "metadata": {},
   "source": [
    "The above cell uses just way too much memory and takes an eternity to run, and since it is 10x smaller than the full dataset and it needs to be loaded all at once, it cant be a good solution.\n",
    "\n",
    "The next test should be to iter over each sample individualy, and reduce its dimension using PCA from (1, 4096, 12) to (1, 4096, 2) and build a new training dataset."
   ]
  },
  {
   "cell_type": "code",
   "execution_count": 3,
   "id": "a01fb89b",
   "metadata": {},
   "outputs": [],
   "source": [
    "device = torch.device('cuda' if torch.cuda.is_available() else 'cpu')\n",
    "\n",
    "dataset = ECG_Dataset('../data/train_dccweek2023.h5',\n",
    "                      '../data/train_dccweek2023-labels.csv',\n",
    "                      start = 0, end = -1)"
   ]
  },
  {
   "cell_type": "code",
   "execution_count": 4,
   "id": "a88fbcaf",
   "metadata": {},
   "outputs": [
    {
     "data": {
      "text/plain": [
       "<HDF5 dataset \"tracings\": shape (51432, 4096, 12), type \"<f4\">"
      ]
     },
     "execution_count": 4,
     "metadata": {},
     "output_type": "execute_result"
    }
   ],
   "source": [
    "dataset.tracings"
   ]
  },
  {
   "cell_type": "code",
   "execution_count": 5,
   "id": "fe376046",
   "metadata": {},
   "outputs": [
    {
     "name": "stdout",
     "output_type": "stream",
     "text": [
      "Original Data:\n",
      "[[ 1  2  3]\n",
      " [ 4  5  6]\n",
      " [ 7  8  9]\n",
      " [10 11 12]]\n",
      "Transformed Data:\n",
      "[[ 7.79422863e+00 -1.69309011e-15]\n",
      " [ 2.59807621e+00 -6.38378239e-16]\n",
      " [-2.59807621e+00  6.38378239e-16]\n",
      " [-7.79422863e+00  1.69309011e-15]]\n"
     ]
    }
   ],
   "source": [
    "from sklearn.decomposition import PCA\n",
    "import numpy as np\n",
    "\n",
    "# Create sample data\n",
    "X = np.array([[1, 2, 3], [4, 5, 6], [7, 8, 9], [10, 11, 12]])\n",
    "\n",
    "# Initialize PCA with the number of components you want to keep\n",
    "pca = PCA(n_components=2)\n",
    "\n",
    "# Fit the PCA model on the data\n",
    "pca.fit(X)\n",
    "\n",
    "# Transform the data to the new coordinate system\n",
    "X_transformed = pca.transform(X)\n",
    "\n",
    "# Print the original data and the transformed data\n",
    "print(\"Original Data:\")\n",
    "print(X)\n",
    "print(\"Transformed Data:\")\n",
    "print(X_transformed)"
   ]
  },
  {
   "cell_type": "code",
   "execution_count": 41,
   "id": "5dfd8556",
   "metadata": {},
   "outputs": [],
   "source": [
    "n = 3\n",
    "pca = PCA(n_components=2)\n",
    "pca.fit(dataset.tracings[n])\n",
    "transformed = pca.transform(dataset.tracings[n])"
   ]
  },
  {
   "cell_type": "code",
   "execution_count": 42,
   "id": "446fc75e",
   "metadata": {},
   "outputs": [
    {
     "data": {
      "text/plain": [
       "array([[-1.0921661 , -0.34675354],\n",
       "       [-1.077329  , -0.3770971 ],\n",
       "       [-1.068098  , -0.38688132],\n",
       "       ...,\n",
       "       [ 0.14603835,  0.5883383 ],\n",
       "       [ 0.16443667,  0.57407165],\n",
       "       [ 0.18471095,  0.56191504]], dtype=float32)"
      ]
     },
     "execution_count": 42,
     "metadata": {},
     "output_type": "execute_result"
    }
   ],
   "source": [
    "transformed"
   ]
  },
  {
   "cell_type": "code",
   "execution_count": 43,
   "id": "6bcecd3e",
   "metadata": {},
   "outputs": [
    {
     "data": {
      "text/plain": [
       "(4096, 2)"
      ]
     },
     "execution_count": 43,
     "metadata": {},
     "output_type": "execute_result"
    }
   ],
   "source": [
    "transformed.shape"
   ]
  },
  {
   "cell_type": "code",
   "execution_count": 55,
   "id": "eef32874",
   "metadata": {},
   "outputs": [],
   "source": [
    "class ECG_Dataset_PCA(ECG_Dataset):\n",
    "    def __getitem__(self, idx):\n",
    "        # Get tracing\n",
    "        tracing_idx = self.start + idx\n",
    "        tracing = self.tracings[tracing_idx]\n",
    "        \n",
    "        pca = PCA(n_components=2)\n",
    "        pca.fit(tracing)\n",
    "        transformed = np.transpose(pca.transform(tracing))\n",
    "        \n",
    "        # Get label\n",
    "        label = self.labels[self.trace_ids[idx]]\n",
    "\n",
    "        return transformed, label"
   ]
  },
  {
   "cell_type": "code",
   "execution_count": 56,
   "id": "820b899f",
   "metadata": {},
   "outputs": [],
   "source": [
    "pca_dataset = ECG_Dataset_PCA('../data/train_dccweek2023.h5',\n",
    "                      '../data/train_dccweek2023-labels.csv',\n",
    "                      start = 0, end = -1)"
   ]
  },
  {
   "cell_type": "code",
   "execution_count": 57,
   "id": "7a9c3bf2",
   "metadata": {},
   "outputs": [
    {
     "data": {
      "text/plain": [
       "(array([[ 0.00643325,  0.00643325,  0.00643325, ...,  0.00643325,\n",
       "          0.00643325,  0.00643325],\n",
       "        [-0.00280107, -0.00280107, -0.00280107, ..., -0.00280107,\n",
       "         -0.00280107, -0.00280107]], dtype=float32),\n",
       " 0)"
      ]
     },
     "execution_count": 57,
     "metadata": {},
     "output_type": "execute_result"
    }
   ],
   "source": [
    "pca_dataset[1]"
   ]
  },
  {
   "cell_type": "code",
   "execution_count": null,
   "id": "32b5ba4c",
   "metadata": {},
   "outputs": [],
   "source": []
  }
 ],
 "metadata": {
  "kernelspec": {
   "display_name": "Python 3 (ipykernel)",
   "language": "python",
   "name": "python3"
  },
  "language_info": {
   "codemirror_mode": {
    "name": "ipython",
    "version": 3
   },
   "file_extension": ".py",
   "mimetype": "text/x-python",
   "name": "python",
   "nbconvert_exporter": "python",
   "pygments_lexer": "ipython3",
   "version": "3.9.7"
  },
  "varInspector": {
   "cols": {
    "lenName": 16,
    "lenType": 16,
    "lenVar": 40
   },
   "kernels_config": {
    "python": {
     "delete_cmd_postfix": "",
     "delete_cmd_prefix": "del ",
     "library": "var_list.py",
     "varRefreshCmd": "print(var_dic_list())"
    },
    "r": {
     "delete_cmd_postfix": ") ",
     "delete_cmd_prefix": "rm(",
     "library": "var_list.r",
     "varRefreshCmd": "cat(var_dic_list()) "
    }
   },
   "types_to_exclude": [
    "module",
    "function",
    "builtin_function_or_method",
    "instance",
    "_Feature"
   ],
   "window_display": false
  }
 },
 "nbformat": 4,
 "nbformat_minor": 5
}
