{
 "cells": [
  {
   "cell_type": "code",
   "execution_count": 8,
   "id": "275f8098",
   "metadata": {},
   "outputs": [],
   "source": [
    "import h5py\n",
    "import numpy as np\n",
    "import pandas as pd\n",
    "from sklearn import preprocessing\n",
    "from scipy.stats import pearsonr\n",
    "from torch.utils.data import Dataset\n",
    "from tqdm import tqdm\n",
    "import torch\n",
    "from sklearn.decomposition import PCA\n",
    "\n",
    "class ECG_Dataset(Dataset):\n",
    "    def __init__(self, \n",
    "                tracings_file_path,\n",
    "                labels_file_path,\n",
    "                start = 0,\n",
    "                end = -1):\n",
    "        self.f = h5py.File(tracings_file_path, 'r')\n",
    "\n",
    "        # Get tracings\n",
    "        self.trace_ids = np.array(self.f['exam_id'])[start:end]\n",
    "        self.tracings = self.f['tracings']\n",
    "\n",
    "        # Defining start and end\n",
    "        self.start = start\n",
    "        self.end   = (end if end != -1 else len(self.tracings)-1)\n",
    "\n",
    "        # Get labels\n",
    "        labels_df = pd.read_csv(labels_file_path)\n",
    "        self.labels    = {labels_df[\"exam_id\"][i]:labels_df[\"classe\"][i] for i in range(len(self.tracings))}\n",
    "\n",
    "    def __len__(self):\n",
    "        return self.end - self.start\n",
    "\n",
    "    def __getitem__(self, idx):\n",
    "        # Get tracing\n",
    "        tracing_idx = self.start + idx\n",
    "        tracing = np.transpose(self.tracings[tracing_idx])\n",
    "        \n",
    "        # Get label\n",
    "        label = self.labels[self.trace_ids[idx]]\n",
    "\n",
    "        return tracing, label"
   ]
  },
  {
   "cell_type": "markdown",
   "id": "c5206626",
   "metadata": {},
   "source": [
    "In the next cell I try to apply a tucker decomposition, witch is (or should be) a SVD equivalent but for tensors. "
   ]
  },
  {
   "cell_type": "markdown",
   "id": "c6be1f60",
   "metadata": {},
   "source": [
    "```\n",
    "from tensorly.decomposition import tucker\n",
    "import tensorly as tl\n",
    "\n",
    "with h5py.File('../data/train_dccweek2023.h5', 'r') as f:\n",
    "    X = f['tracings'][:5000]\n",
    "    \n",
    "\n",
    "# aplica o HOSVD mantendo a primeira dimensão\n",
    "factors = tucker(X, rank=[5000, 2000, 2])\n",
    "\n",
    "# reconstrói o tensor original usando os componentes principais\n",
    "X_hosvd = tl.kruskal_to_tensor(factors)\n",
    "\n",
    "# verifica as dimensões do novo tensor\n",
    "print(X_hosvd.shape)\n",
    "```"
   ]
  },
  {
   "cell_type": "markdown",
   "id": "e2ed651f",
   "metadata": {},
   "source": [
    "The above cell uses just way too much memory and takes an eternity to run, and since it is 10x smaller than the full dataset and it needs to be loaded all at once, it cant be a good solution.\n",
    "\n",
    "The next test should be to iter over each sample individualy, and reduce its dimension using PCA from (1, 4096, 12) to (1, 4096, 2) and build a new training dataset."
   ]
  },
  {
   "cell_type": "code",
   "execution_count": 9,
   "id": "a01fb89b",
   "metadata": {},
   "outputs": [],
   "source": [
    "device = torch.device('cuda' if torch.cuda.is_available() else 'cpu')\n",
    "\n",
    "dataset = ECG_Dataset('../data/train_dccweek2023.h5',\n",
    "                      '../data/train_dccweek2023-labels.csv',\n",
    "                      start = 0, end = -1)"
   ]
  },
  {
   "cell_type": "code",
   "execution_count": 10,
   "id": "a88fbcaf",
   "metadata": {},
   "outputs": [
    {
     "data": {
      "text/plain": [
       "<HDF5 dataset \"tracings\": shape (51432, 4096, 12), type \"<f4\">"
      ]
     },
     "execution_count": 10,
     "metadata": {},
     "output_type": "execute_result"
    }
   ],
   "source": [
    "dataset.tracings"
   ]
  },
  {
   "cell_type": "code",
   "execution_count": 26,
   "id": "eef32874",
   "metadata": {},
   "outputs": [],
   "source": [
    "class ECG_Dataset_Features(ECG_Dataset):\n",
    "    def __getitem__(self, idx):\n",
    "        # Get tracing\n",
    "        tracing_idx = self.start + idx\n",
    "        tracing = self.tracings[tracing_idx]\n",
    "        \n",
    "        # Adding pca of each signal to features\n",
    "        pca = PCA(n_components=2)\n",
    "        pca.fit(tracing)\n",
    "        transformed = np.transpose(pca.transform(tracing))\n",
    "        \n",
    "        # Adding fft analysis\n",
    "        harmonics = []\n",
    "        for signal in np.transpose(tracing):\n",
    "            dft = np.fft.fft(signal)\n",
    "            spectrum = np.abs(dft)\n",
    "            T = 1/4096\n",
    "            N = 4096\n",
    "            f = np.fft.fftfreq(N, T)\n",
    "            frequencias = f[:N // 2]\n",
    "            amplitudes = np.abs(dft)[:N // 2] * 1 / N\n",
    "            best_5 = sorted(zip(amplitudes, frequencias), key = lambda x: x[0])[:5]\n",
    "            harmonics.append(best_5)\n",
    "        \n",
    "        label = self.labels[self.trace_ids[idx]]\n",
    "\n",
    "        return transformed, harmonics, label"
   ]
  },
  {
   "cell_type": "code",
   "execution_count": 27,
   "id": "820b899f",
   "metadata": {},
   "outputs": [],
   "source": [
    "pca_dataset = ECG_Dataset_Features('../data/train_dccweek2023.h5',\n",
    "                      '../data/train_dccweek2023-labels.csv',\n",
    "                      start = 0, end = -1)"
   ]
  },
  {
   "cell_type": "code",
   "execution_count": 28,
   "id": "7a9c3bf2",
   "metadata": {},
   "outputs": [
    {
     "data": {
      "text/plain": [
       "(array([[ 0.00132167,  0.00132167,  0.00132167, ...,  0.00132167,\n",
       "          0.00132167,  0.00132167],\n",
       "        [-0.00620164, -0.00620164, -0.00620164, ..., -0.00620164,\n",
       "         -0.00620164, -0.00620164]], dtype=float32),\n",
       " [[(6.89322247574178e-07, 2039.0),\n",
       "   (1.8502183420517583e-06, 2020.0),\n",
       "   (2.1952691244240816e-06, 1916.0),\n",
       "   (2.941896539934087e-06, 625.0),\n",
       "   (3.068819175589408e-06, 1697.0)],\n",
       "  [(1.0637980531465152e-07, 1951.0),\n",
       "   (1.467753041207812e-07, 1824.0),\n",
       "   (1.9297881857952446e-07, 1803.0),\n",
       "   (1.9485257723717336e-07, 1923.0),\n",
       "   (2.0419500242756645e-07, 1870.0)],\n",
       "  [(5.899598739481765e-07, 1060.0),\n",
       "   (1.2422680153014398e-06, 1609.0),\n",
       "   (1.371204365222291e-06, 1694.0),\n",
       "   (1.378336734449453e-06, 1675.0),\n",
       "   (1.7462074346731318e-06, 1583.0)],\n",
       "  [(1.3158089795101346e-07, 1953.0),\n",
       "   (2.655521338384478e-07, 1759.0),\n",
       "   (2.891059721951097e-07, 1847.0),\n",
       "   (3.193347297695923e-07, 1893.0),\n",
       "   (3.8046228062081805e-07, 1932.0)],\n",
       "  [(7.621093773273258e-07, 2039.0),\n",
       "   (1.1935182722810236e-06, 1655.0),\n",
       "   (2.8846904564463955e-06, 1612.0),\n",
       "   (3.139347412248651e-06, 1384.0),\n",
       "   (3.1893168680388897e-06, 1186.0)],\n",
       "  [(1.0192686566467007e-06, 1686.0),\n",
       "   (1.2049747439347426e-06, 1644.0),\n",
       "   (1.208287636555764e-06, 1750.0),\n",
       "   (1.649363152938078e-06, 2029.0),\n",
       "   (1.6944159695149887e-06, 1697.0)],\n",
       "  [(6.537641033274098e-07, 1690.0),\n",
       "   (7.348953403959324e-07, 1676.0),\n",
       "   (7.349088186331052e-07, 1697.0),\n",
       "   (9.611830781203522e-07, 1648.0),\n",
       "   (1.2740629988182862e-06, 1701.0)],\n",
       "  [(2.0378592846833063e-06, 1272.0),\n",
       "   (5.8032285022448264e-06, 985.0),\n",
       "   (7.050662116435084e-06, 928.0),\n",
       "   (7.883795381186777e-06, 1092.0),\n",
       "   (8.76323248670298e-06, 710.0)],\n",
       "  [(1.8485017184579209e-06, 577.0),\n",
       "   (5.215029527705659e-06, 915.0),\n",
       "   (1.7307700797635125e-05, 1190.0),\n",
       "   (1.8637440029303167e-05, 1293.0),\n",
       "   (1.9781467299398588e-05, 572.0)],\n",
       "  [(4.751713414256061e-06, 1054.0),\n",
       "   (6.876757087715363e-06, 964.0),\n",
       "   (1.1592451631376474e-05, 1472.0),\n",
       "   (1.1690427238549717e-05, 1100.0),\n",
       "   (1.3490520085064685e-05, 980.0)],\n",
       "  [(3.7012239413816787e-06, 1295.0),\n",
       "   (5.187867717063859e-06, 1170.0),\n",
       "   (5.733708174448096e-06, 2039.0),\n",
       "   (6.505014598144597e-06, 1277.0),\n",
       "   (7.592475870106689e-06, 1568.0)],\n",
       "  [(1.9428432443551777e-07, 1777.0),\n",
       "   (2.690883453277187e-07, 1956.0),\n",
       "   (3.0711162050733483e-07, 1752.0),\n",
       "   (3.1211043784330055e-07, 1883.0),\n",
       "   (3.6437392087496323e-07, 1854.0)]],\n",
       " 0)"
      ]
     },
     "execution_count": 28,
     "metadata": {},
     "output_type": "execute_result"
    }
   ],
   "source": [
    "pca_dataset[0]"
   ]
  },
  {
   "cell_type": "code",
   "execution_count": null,
   "id": "32b5ba4c",
   "metadata": {},
   "outputs": [],
   "source": []
  }
 ],
 "metadata": {
  "kernelspec": {
   "display_name": "Python 3 (ipykernel)",
   "language": "python",
   "name": "python3"
  },
  "language_info": {
   "codemirror_mode": {
    "name": "ipython",
    "version": 3
   },
   "file_extension": ".py",
   "mimetype": "text/x-python",
   "name": "python",
   "nbconvert_exporter": "python",
   "pygments_lexer": "ipython3",
   "version": "3.9.7"
  },
  "varInspector": {
   "cols": {
    "lenName": 16,
    "lenType": 16,
    "lenVar": 40
   },
   "kernels_config": {
    "python": {
     "delete_cmd_postfix": "",
     "delete_cmd_prefix": "del ",
     "library": "var_list.py",
     "varRefreshCmd": "print(var_dic_list())"
    },
    "r": {
     "delete_cmd_postfix": ") ",
     "delete_cmd_prefix": "rm(",
     "library": "var_list.r",
     "varRefreshCmd": "cat(var_dic_list()) "
    }
   },
   "types_to_exclude": [
    "module",
    "function",
    "builtin_function_or_method",
    "instance",
    "_Feature"
   ],
   "window_display": false
  }
 },
 "nbformat": 4,
 "nbformat_minor": 5
}
