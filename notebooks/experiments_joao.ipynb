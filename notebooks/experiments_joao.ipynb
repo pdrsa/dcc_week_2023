{
 "cells": [
  {
   "cell_type": "code",
   "execution_count": 15,
   "id": "83cf91b3-fce3-44f7-abc3-5d64bedd5488",
   "metadata": {},
   "outputs": [],
   "source": [
    "import sys\n",
    "sys.path.append(\"..\")\n",
    "\n",
    "import torch\n",
    "import numpy as np\n",
    "import pandas as pd\n",
    "from ecg_bib import ECG_Dataset, ECG_CNN_Classifier, train\n",
    "from torch.utils.data import DataLoader\n",
    "import torch.nn as nn\n",
    "import torch.optim as optim\n",
    "from sklearn.metrics import f1_score\n",
    "from tqdm import tqdm\n",
    "from biosppy.signals import ecg"
   ]
  },
  {
   "cell_type": "code",
   "execution_count": 2,
   "id": "779ac33e-6236-4e03-b742-1e4b81ccbdb2",
   "metadata": {},
   "outputs": [],
   "source": [
    "device = torch.device('cuda' if torch.cuda.is_available() else 'cpu')\n",
    "\n",
    "train_dataset = ECG_Dataset('../data/train_dccweek2023.h5',\n",
    "                            '../data/train_dccweek2023-labels.csv',\n",
    "                             start = 0, end = 45000)\n",
    "train_loader = DataLoader(train_dataset, batch_size=32, shuffle=True)\n",
    "\n",
    "val_dataset = ECG_Dataset('../data/train_dccweek2023.h5',\n",
    "                            '../data/train_dccweek2023-labels.csv',\n",
    "                             start = 45000, end = -1)\n",
    "val_loader = DataLoader(val_dataset, batch_size=32, shuffle=False)\n",
    "\n",
    "# model = ECG_CNN_Classifier().to(device)\n",
    "\n",
    "# criterion = nn.CrossEntropyLoss()\n",
    "\n",
    "# optimizer = optim.Adam(model.parameters(), lr=0.001)"
   ]
  },
  {
   "cell_type": "code",
   "execution_count": 80,
   "id": "241fdad7-d17a-4a29-8d2c-6e80b88e3adf",
   "metadata": {},
   "outputs": [],
   "source": [
    "rpeaks = ecg.ecg(signal=tracing[1], sampling_rate=400, show=False)['rpeaks']\n",
    "out = ecg.extract_heartbeats(signal=tracing[1], rpeaks=rpeaks, sampling_rate=400, before=0.2, after=0.4)[0][0]"
   ]
  },
  {
   "cell_type": "code",
   "execution_count": 86,
   "id": "89cfaa12-6f39-434d-958e-44cb16d18020",
   "metadata": {},
   "outputs": [
    {
     "data": {
      "text/plain": [
       "[0.9025034986782771,\n",
       " 0.013372725859119888,\n",
       " 0.017260146167003578,\n",
       " 0.01694915254237288,\n",
       " 0.012284248172912455,\n",
       " 0.02021458560099518,\n",
       " 0.017415642979318923]"
      ]
     },
     "execution_count": 86,
     "metadata": {},
     "output_type": "execute_result"
    }
   ],
   "source": [
    "prevalence = [0 for i in range(7)]\n",
    "for tracings, labels in val_loader:\n",
    "    prevalence[labels[0].item()] += 1\n",
    "[x/len(val_loader.dataset) for x in prevalence]"
   ]
  },
  {
   "cell_type": "code",
   "execution_count": 91,
   "id": "360c24b0-1bb4-4b99-9e41-ffcb7e31cf57",
   "metadata": {},
   "outputs": [],
   "source": [
    "val_loader = DataLoader(val_dataset, batch_size=5, shuffle=False)\n",
    "_, labels = next(iter(val_loader))"
   ]
  },
  {
   "cell_type": "code",
   "execution_count": 54,
   "id": "03a2cf6d-5534-4168-94bb-eaf3b28a67f0",
   "metadata": {
    "tags": []
   },
   "outputs": [
    {
     "name": "stderr",
     "output_type": "stream",
     "text": [
      "6431it [00:04, 1334.50it/s]\n"
     ]
    }
   ],
   "source": [
    "val_loader = DataLoader(val_dataset, batch_size=1, shuffle=False)\n",
    "\n",
    "rates = {i:[] for i in range(7)}\n",
    "for i, (tracings, labels) in tqdm(enumerate(val_loader)):\n",
    "    if labels[0].item() == 0 or i > 1000: continue\n",
    "    features = ecg.ecg(signal=tracings[0][1], sampling_rate=400, show=False)\n",
    "    try:\n",
    "        heart_rate = (max(features[-1]), min(features[-1]))\n",
    "    except:\n",
    "        continue\n",
    "    rates[labels[0].item()].append(heart_rate)"
   ]
  },
  {
   "cell_type": "code",
   "execution_count": 55,
   "id": "775cb546-99ef-43f7-8e16-ce31802c8e1d",
   "metadata": {},
   "outputs": [
    {
     "data": {
      "text/plain": [
       "[(46.61985482938995, 46.03640634174985),\n",
       " (50.96197934465366, 50.31624199464176),\n",
       " (40.26845637583892, 40.17867163475567),\n",
       " (48.822570853436424, 46.81408382066276),\n",
       " (50.03595034520994, 49.45393639377684),\n",
       " (45.90533108137369, 44.69398197621194),\n",
       " (48.686790818628324, 45.89213876488369),\n",
       " (48.48484848484848, 47.74603174603174),\n",
       " (47.91223997280158, 45.69144615296139),\n",
       " (44.0082398221933, 43.402179216132694)]"
      ]
     },
     "execution_count": 55,
     "metadata": {},
     "output_type": "execute_result"
    }
   ],
   "source": [
    "rates[4][:10]"
   ]
  },
  {
   "cell_type": "code",
   "execution_count": 58,
   "id": "02d7c7f9-6420-4b41-bbf5-fb2933558dff",
   "metadata": {},
   "outputs": [
    {
     "data": {
      "text/plain": [
       "[(89.71088612879657, 61.074158767510184),\n",
       " (85.51470208702534, 68.46014303576264),\n",
       " (99.24588968911667, 80.54111590236582),\n",
       " (159.7341601580386, 115.43045517940915),\n",
       " (118.70065179375763, 92.58775670588938),\n",
       " (122.9636152583757, 89.86360629780715),\n",
       " (126.06060606060605, 90.90334788452779),\n",
       " (152.77240197975772, 108.59728506787332),\n",
       " (145.65981300405295, 95.21425151611874),\n",
       " (119.73023701641529, 86.75389197047325)]"
      ]
     },
     "execution_count": 58,
     "metadata": {},
     "output_type": "execute_result"
    }
   ],
   "source": [
    "rates[6][:10]"
   ]
  },
  {
   "cell_type": "code",
   "execution_count": 34,
   "id": "5e4742b1-4b91-4746-a3ca-b3da89dfc95d",
   "metadata": {},
   "outputs": [
    {
     "data": {
      "text/plain": [
       "array([66.07051981, 65.55974567, 65.8239901 , 66.0863127 , 63.7900693 ,\n",
       "       63.20389328, 65.12054785])"
      ]
     },
     "execution_count": 34,
     "metadata": {},
     "output_type": "execute_result"
    }
   ],
   "source": [
    "list(out)[-1]"
   ]
  },
  {
   "cell_type": "code",
   "execution_count": 19,
   "id": "e5797ff4-9e30-4f09-8b79-bb875585e239",
   "metadata": {},
   "outputs": [
    {
     "data": {
      "image/png": "[encoded data removed]",
      "text/plain": [
       "<Figure size 432x288 with 3 Axes>"
      ]
     },
     "metadata": {
      "needs_background": "light"
     },
     "output_type": "display_data"
    }
   ],
   "source": [
    "out = ecg.ecg(signal=tracing[1], sampling_rate=400, show=True)"
   ]
  }
 ],
 "metadata": {
  "kernelspec": {
   "display_name": "Python 3 (ipykernel)",
   "language": "python",
   "name": "python3"
  },
  "language_info": {
   "codemirror_mode": {
    "name": "ipython",
    "version": 3
   },
   "file_extension": ".py",
   "mimetype": "text/x-python",
   "name": "python",
   "nbconvert_exporter": "python",
   "pygments_lexer": "ipython3",
   "version": "3.9.7"
  }
 },
 "nbformat": 4,
 "nbformat_minor": 5
}
